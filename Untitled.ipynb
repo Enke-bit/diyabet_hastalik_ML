{
 "cells": [
  {
   "cell_type": "code",
   "execution_count": 5,
   "id": "cebdf730",
   "metadata": {},
   "outputs": [
    {
     "name": "stdout",
     "output_type": "stream",
     "text": [
      "Test seti doğruluğu: 0.8412172816146326\n",
      "              precision    recall  f1-score   support\n",
      "\n",
      "         0.0       0.86      0.97      0.91     42795\n",
      "         1.0       0.00      0.00      0.00       944\n",
      "         2.0       0.47      0.20      0.28      6997\n",
      "\n",
      "    accuracy                           0.84     50736\n",
      "   macro avg       0.44      0.39      0.40     50736\n",
      "weighted avg       0.79      0.84      0.81     50736\n",
      "\n"
     ]
    }
   ],
   "source": [
    "import pandas as pd\n",
    "from sklearn.model_selection import train_test_split\n",
    "from sklearn.ensemble import RandomForestClassifier\n",
    "from sklearn.metrics import accuracy_score, classification_report\n",
    "\n",
    "# CSV dosyasını okuma\n",
    "data = pd.read_csv(r\"C:\\Users\\realb\\Desktop\\diyabet hastalığı sınıflandırma modeli\\diabetes_012_health_indicators_BRFSS2015.csv\")\n",
    "\n",
    "# Hedef değişken ve özelliklerin belirlenmesi\n",
    "X = data.drop(\"Diabetes_012\", axis=1)  # Özellikler\n",
    "y = data[\"Diabetes_012\"]  # Hedef değişken\n",
    "\n",
    "# Kategorik verileri one-hot encoding ile dönüştürme\n",
    "X = pd.get_dummies(X)\n",
    "\n",
    "# Eğitim ve test setlerinin oluşturulması\n",
    "X_train, X_test, y_train, y_test = train_test_split(X, y, test_size=0.2, random_state=42)\n",
    "\n",
    "# Modelin oluşturulması ve eğitilmesi\n",
    "model = RandomForestClassifier(random_state=42)\n",
    "model.fit(X_train, y_train)\n",
    "\n",
    "# Test seti üzerinde modelin performansının değerlendirilmesi\n",
    "y_pred = model.predict(X_test)\n",
    "accuracy = accuracy_score(y_test, y_pred)\n",
    "print(\"Test seti doğruluğu:\", accuracy)\n",
    "\n",
    "# Sınıflandırma raporunun yazdırılması\n",
    "print(classification_report(y_test, y_pred))\n"
   ]
  }
 ],
 "metadata": {
  "kernelspec": {
   "display_name": "Python 3 (ipykernel)",
   "language": "python",
   "name": "python3"
  },
  "language_info": {
   "codemirror_mode": {
    "name": "ipython",
    "version": 3
   },
   "file_extension": ".py",
   "mimetype": "text/x-python",
   "name": "python",
   "nbconvert_exporter": "python",
   "pygments_lexer": "ipython3",
   "version": "3.11.5"
  }
 },
 "nbformat": 4,
 "nbformat_minor": 5
}
